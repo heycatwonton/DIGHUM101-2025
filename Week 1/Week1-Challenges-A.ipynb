{
 "cells": [
  {
   "cell_type": "markdown",
   "metadata": {},
   "source": [
    "## Challenge 1: Making and Printing Variables\n",
    "\n",
    "1. Make 3 variables: `name` (with your full name), `city` (where you were born) and `year` (when you were born.)\n",
    "2. Print these three variables so that it prints `[your name] was born in [city] in [year].`"
   ]
  },
  {
   "cell_type": "code",
   "metadata": {
    "ExecuteTime": {
     "end_time": "2025-06-02T19:34:12.133951Z",
     "start_time": "2025-06-02T19:34:12.127146Z"
    }
   },
   "source": [
    "name = \"Catherine Wong\"\n",
    "city = \"New York\"\n",
    "year = 1988\n",
    "print(f\"{name} was born in {city} in {year} years.\")"
   ],
   "outputs": [
    {
     "name": "stdout",
     "output_type": "stream",
     "text": [
      "Catherine Wong was born in New York in 1988 years.\n"
     ]
    }
   ],
   "execution_count": 7
  },
  {
   "cell_type": "markdown",
   "metadata": {},
   "source": [
    "## Challenge 2: Swapping Values\n",
    "\n",
    "In simple terms, what do the last three lines of this program do?"
   ]
  },
  {
   "cell_type": "code",
   "metadata": {
    "ExecuteTime": {
     "end_time": "2025-06-02T19:31:49.000445Z",
     "start_time": "2025-06-02T19:31:48.998167Z"
    }
   },
   "source": [
    "lowest = 1.0\n",
    "highest = 3.0\n",
    "temp = lowest\n",
    "lowest = highest\n",
    "highest = temp"
   ],
   "outputs": [],
   "execution_count": 5
  },
  {
   "cell_type": "code",
   "metadata": {
    "ExecuteTime": {
     "end_time": "2025-06-02T19:31:50.218110Z",
     "start_time": "2025-06-02T19:31:50.215104Z"
    }
   },
   "source": [
    "print(temp)\n",
    "print(lowest)\n",
    "print(highest)"
   ],
   "outputs": [
    {
     "name": "stdout",
     "output_type": "stream",
     "text": [
      "1.0\n",
      "3.0\n",
      "1.0\n"
     ]
    }
   ],
   "execution_count": 6
  },
  {
   "metadata": {},
   "cell_type": "markdown",
   "source": "Answer: Values of the lowest and highest variables are swapped."
  },
  {
   "cell_type": "markdown",
   "metadata": {},
   "source": [
    "## Challenge 3: Predicting Values\n",
    "\n",
    "What is the final value of `position` in the program below?\n",
    "\n",
    "(Try to predict the value without running the program, then check your prediction.)\n"
   ]
  },
  {
   "cell_type": "code",
   "metadata": {
    "ExecuteTime": {
     "end_time": "2025-06-02T19:36:45.329815Z",
     "start_time": "2025-06-02T19:36:45.326571Z"
    }
   },
   "source": [
    "initial = \"left\"\n",
    "position = initial\n",
    "initial = \"right\""
   ],
   "outputs": [],
   "execution_count": 8
  },
  {
   "cell_type": "code",
   "metadata": {
    "ExecuteTime": {
     "end_time": "2025-06-02T19:36:55.872259Z",
     "start_time": "2025-06-02T19:36:55.867418Z"
    }
   },
   "source": [
    "position"
   ],
   "outputs": [
    {
     "data": {
      "text/plain": [
       "'left'"
      ]
     },
     "execution_count": 9,
     "metadata": {},
     "output_type": "execute_result"
    }
   ],
   "execution_count": 9
  },
  {
   "cell_type": "code",
   "metadata": {
    "ExecuteTime": {
     "end_time": "2025-06-02T19:36:59.946664Z",
     "start_time": "2025-06-02T19:36:59.943418Z"
    }
   },
   "source": [
    "initial"
   ],
   "outputs": [
    {
     "data": {
      "text/plain": [
       "'right'"
      ]
     },
     "execution_count": 10,
     "metadata": {},
     "output_type": "execute_result"
    }
   ],
   "execution_count": 10
  },
  {
   "metadata": {},
   "cell_type": "markdown",
   "source": [
    "Prediction:\n",
    "\n",
    "position: \"left\",\n",
    "initial: \"right\""
   ]
  },
  {
   "cell_type": "markdown",
   "metadata": {},
   "source": [
    "## Challenge 4: Syntax"
   ]
  },
  {
   "cell_type": "markdown",
   "metadata": {},
   "source": [
    "Why does the following code fail? What is it probably supposed to do, and what is it actually doing?"
   ]
  },
  {
   "cell_type": "code",
   "metadata": {
    "ExecuteTime": {
     "end_time": "2025-06-02T19:43:25.966139Z",
     "start_time": "2025-06-02T19:43:25.961361Z"
    }
   },
   "source": "age = 31",
   "outputs": [],
   "execution_count": 11
  },
  {
   "metadata": {},
   "cell_type": "markdown",
   "source": "when you write age == 31, you are are saying the string age is equal to the number 31. == is a comparison symbol. Also, age, the variable, was never assigned."
  },
  {
   "cell_type": "markdown",
   "metadata": {},
   "source": [
    "And the following?"
   ]
  },
  {
   "cell_type": "code",
   "metadata": {
    "ExecuteTime": {
     "end_time": "2025-06-02T19:43:42.367906Z",
     "start_time": "2025-06-02T19:43:42.365092Z"
    }
   },
   "source": "age = 31",
   "outputs": [],
   "execution_count": 12
  },
  {
   "metadata": {},
   "cell_type": "markdown",
   "source": "when you write 31 = age, you are creating the variable 31 and assigning age to it, but if you mean age is supposed to be a string then it needs to be wrapped around in quotation marks like \"age\" or 'age'. If you are trying to assign the number 31 to a variable called age, then it would be age = 31."
  },
  {
   "cell_type": "markdown",
   "metadata": {},
   "source": "wFix the above cells."
  },
  {
   "cell_type": "markdown",
   "metadata": {},
   "source": [
    "## Challenge 5: Making and Casting Variables\n",
    "\n",
    "1. Make a variable `year` and [assign](https://github.com/dlab-berkeley/python-intensive/blob/master/Glossary.md#assign) it as the year you were born\n",
    "2. Cast that variable to a float, and assign it to a new variable `year_float`\n",
    "3. Cast `year_float` to a string, and assign it to a new variable `year_string`\n",
    "4. Someone in your class says they were born in 1997. Find out what your age difference is, using only `year_string`.\n",
    "\n",
    "Some of the steps in this challenge might seem redundant or unnecessary, and they are. The idea is just to give you practice with coercing variables, even if it's unlikely you'll ever need to do it so many times in a row."
   ]
  },
  {
   "cell_type": "code",
   "metadata": {
    "ExecuteTime": {
     "end_time": "2025-06-02T19:48:12.445801Z",
     "start_time": "2025-06-02T19:48:12.442575Z"
    }
   },
   "source": [
    "year = 1988\n",
    "year_float = float(year)\n",
    "year_string = str(year_float)\n",
    "\n",
    "print(year, year_float, year_string)\n",
    "\n",
    "age_difference = 1997 - int(float(year_string))\n",
    "print(\"age difference:\", age_difference)"
   ],
   "outputs": [
    {
     "name": "stdout",
     "output_type": "stream",
     "text": [
      "1988 1988.0 1988.0\n",
      "age difference: 9\n"
     ]
    }
   ],
   "execution_count": 21
  },
  {
   "cell_type": "markdown",
   "metadata": {},
   "source": [
    "## Challenge 6: Division Types\n",
    "\n",
    "The `//` operator calculates the whole-number result of division, while the '%' operator calculates the remainder from division. Run the cell below to see an example of each."
   ]
  },
  {
   "cell_type": "code",
   "metadata": {
    "ExecuteTime": {
     "end_time": "2025-06-02T19:48:21.427958Z",
     "start_time": "2025-06-02T19:48:21.424595Z"
    }
   },
   "source": [
    "print('5 // 3:', 5//3)\n",
    "print('5 % 3:', 5%3)"
   ],
   "outputs": [
    {
     "name": "stdout",
     "output_type": "stream",
     "text": [
      "5 // 3: 1\n",
      "5 % 3: 2\n"
     ]
    }
   ],
   "execution_count": 22
  },
  {
   "cell_type": "markdown",
   "metadata": {},
   "source": [
    "You are ordering pizza for a campus event.\n",
    "\n",
    "You have ordered 8 pizzas, with 8 slices each, for a total of 64 slices.\n",
    "\n",
    "You know that everyone attending will eat exactly 3 slices of pizza. You want to make sure that everyone who comes gets enough pizza, even if that means a slice or two will be left over.\n",
    "\n",
    "Write an expression that calculates how many students you can satisfactorily feed with 64 slices of pizza, provided that each will eat 3 slices."
   ]
  },
  {
   "cell_type": "code",
   "metadata": {
    "ExecuteTime": {
     "end_time": "2025-06-02T19:49:27.437128Z",
     "start_time": "2025-06-02T19:49:27.429576Z"
    }
   },
   "source": "64 // 3",
   "outputs": [
    {
     "data": {
      "text/plain": [
       "21"
      ]
     },
     "execution_count": 23,
     "metadata": {},
     "output_type": "execute_result"
    }
   ],
   "execution_count": 23
  },
  {
   "cell_type": "markdown",
   "metadata": {},
   "source": [
    "## Challenge 7: Strings to Numbers\n",
    "\n",
    " `float` will convert a string to a floating point number, and `int` will convert a floating point number to an integer:\n"
   ]
  },
  {
   "cell_type": "code",
   "metadata": {
    "ExecuteTime": {
     "end_time": "2025-06-02T19:53:29.562406Z",
     "start_time": "2025-06-02T19:53:29.559633Z"
    }
   },
   "source": [
    "print(\"string to float:\", float(\"3.4\"))\n",
    "print(\"float to int:\", int(3.4))"
   ],
   "outputs": [
    {
     "name": "stdout",
     "output_type": "stream",
     "text": [
      "string to float: 3.4\n",
      "float to int: 3\n"
     ]
    }
   ],
   "execution_count": 24
  },
  {
   "cell_type": "markdown",
   "metadata": {},
   "source": [
    "Given that, what do you expect this program to do? What does it actually do? Why do you think it does that?"
   ]
  },
  {
   "cell_type": "code",
   "metadata": {
    "ExecuteTime": {
     "end_time": "2025-06-02T19:54:00.817846Z",
     "start_time": "2025-06-02T19:54:00.799292Z"
    }
   },
   "source": [
    "print(\"fractional string to int:\", int(\"3.4\"))"
   ],
   "outputs": [
    {
     "ename": "ValueError",
     "evalue": "invalid literal for int() with base 10: '3.4'",
     "output_type": "error",
     "traceback": [
      "\u001B[31m---------------------------------------------------------------------------\u001B[39m",
      "\u001B[31mValueError\u001B[39m                                Traceback (most recent call last)",
      "\u001B[36mCell\u001B[39m\u001B[36m \u001B[39m\u001B[32mIn[25]\u001B[39m\u001B[32m, line 1\u001B[39m\n\u001B[32m----> \u001B[39m\u001B[32m1\u001B[39m \u001B[38;5;28mprint\u001B[39m(\u001B[33m\"\u001B[39m\u001B[33mfractional string to int:\u001B[39m\u001B[33m\"\u001B[39m, \u001B[38;5;28;43mint\u001B[39;49m\u001B[43m(\u001B[49m\u001B[33;43m\"\u001B[39;49m\u001B[33;43m3.4\u001B[39;49m\u001B[33;43m\"\u001B[39;49m\u001B[43m)\u001B[49m)\n",
      "\u001B[31mValueError\u001B[39m: invalid literal for int() with base 10: '3.4'"
     ]
    }
   ],
   "execution_count": 25
  },
  {
   "metadata": {},
   "cell_type": "markdown",
   "source": "I expect it to convert \"3.4\" into an int, 3. BUT because it is a string that represents a float, you need to convert the string to a float to an int. int can only convert strings that look like whole numbers and not decimals."
  },
  {
   "cell_type": "code",
   "metadata": {
    "ExecuteTime": {
     "end_time": "2025-06-02T19:57:04.379543Z",
     "start_time": "2025-06-02T19:57:04.371830Z"
    }
   },
   "source": "print(\"fractional string to int:\", int(float(\"3.4\")))",
   "outputs": [
    {
     "name": "stdout",
     "output_type": "stream",
     "text": [
      "fractional string to int: 3\n"
     ]
    }
   ],
   "execution_count": 27
  },
  {
   "cell_type": "markdown",
   "metadata": {},
   "source": [
    "## Challenge 8: More data type conversions\n",
    "\n",
    "More data type conversion practice. "
   ]
  },
  {
   "cell_type": "code",
   "metadata": {
    "ExecuteTime": {
     "end_time": "2025-06-02T19:58:34.148771Z",
     "start_time": "2025-06-02T19:58:34.145802Z"
    }
   },
   "source": [
    "# Define a float, an integer, and a string:\n",
    "Float = 3.84\n",
    "Integer = 5\n",
    "String = \"Text\""
   ],
   "outputs": [],
   "execution_count": 29
  },
  {
   "cell_type": "code",
   "metadata": {
    "ExecuteTime": {
     "end_time": "2025-06-02T19:58:36.339023Z",
     "start_time": "2025-06-02T19:58:36.337358Z"
    }
   },
   "source": [
    "# Convert Float to integer type. Did any rounding occur here, or did something else happen? \n",
    "\n",
    "print(int(Float))\n",
    "\n",
    "\n"
   ],
   "outputs": [
    {
     "name": "stdout",
     "output_type": "stream",
     "text": [
      "3\n"
     ]
    }
   ],
   "execution_count": 30
  },
  {
   "metadata": {},
   "cell_type": "markdown",
   "source": "It did not round the float, but just truncated the decimal part."
  },
  {
   "cell_type": "code",
   "metadata": {
    "ExecuteTime": {
     "end_time": "2025-06-02T20:02:21.917572Z",
     "start_time": "2025-06-02T20:02:21.914838Z"
    }
   },
   "source": [
    "# Convert integer to float\n",
    "\n",
    "print(float(Integer))\n",
    "\n"
   ],
   "outputs": [
    {
     "name": "stdout",
     "output_type": "stream",
     "text": [
      "5.0\n"
     ]
    }
   ],
   "execution_count": 35
  },
  {
   "cell_type": "code",
   "metadata": {
    "ExecuteTime": {
     "end_time": "2025-06-02T20:02:38.314795Z",
     "start_time": "2025-06-02T20:02:38.311829Z"
    }
   },
   "source": [
    "# Convert integer or float to string\n",
    "\n",
    "print(str(Float))\n",
    "print(str(Integer))\n",
    "\n"
   ],
   "outputs": [
    {
     "name": "stdout",
     "output_type": "stream",
     "text": [
      "3.84\n",
      "5\n"
     ]
    }
   ],
   "execution_count": 37
  },
  {
   "cell_type": "markdown",
   "metadata": {},
   "source": [
    "## Challenge 9: Arithmetic with Different Types\n",
    "\n",
    "Which of the following will print 2.0?\n",
    "\n",
    "Note: there may be more than one right answer."
   ]
  },
  {
   "cell_type": "code",
   "metadata": {
    "ExecuteTime": {
     "end_time": "2025-06-02T20:03:19.628008Z",
     "start_time": "2025-06-02T20:03:19.625563Z"
    }
   },
   "source": [
    "first = 1.0\n",
    "second = \"1\"\n",
    "third = \"1.1\""
   ],
   "outputs": [],
   "execution_count": 38
  },
  {
   "cell_type": "markdown",
   "metadata": {},
   "source": [
    "1. `first + float(second)` <- WILL PRINT 2.0\n",
    "2. `float(second) + float(third)`\n",
    "3. `first + int(third)`\n",
    "4. `first + int(float(third))` <- WILL PRINT 2.0\n",
    "5. `int(first) + int(float(third))`\n",
    "6. `2.0 * second`"
   ]
  },
  {
   "cell_type": "markdown",
   "metadata": {},
   "source": "Does `first == second` ? NO"
  },
  {
   "cell_type": "markdown",
   "metadata": {},
   "source": [
    "Change the code below to yield `True` by casting the variable(s)."
   ]
  },
  {
   "cell_type": "code",
   "metadata": {
    "ExecuteTime": {
     "end_time": "2025-06-02T20:10:34.267520Z",
     "start_time": "2025-06-02T20:10:34.264780Z"
    }
   },
   "source": "first == float(int(second))",
   "outputs": [
    {
     "data": {
      "text/plain": [
       "True"
      ]
     },
     "execution_count": 40,
     "metadata": {},
     "output_type": "execute_result"
    }
   ],
   "execution_count": 40
  },
  {
   "cell_type": "markdown",
   "metadata": {},
   "source": [
    "## Challenge 10: Math expressions on different data types\n",
    "\n",
    "More practice with math expression on different data types."
   ]
  },
  {
   "cell_type": "code",
   "metadata": {
    "ExecuteTime": {
     "end_time": "2025-06-02T20:13:29.766187Z",
     "start_time": "2025-06-02T20:13:29.760197Z"
    }
   },
   "source": [
    "# You can mix floats and integers, which will always produce a float:\n",
    "print(Float + Integer)\n",
    "print(type(Float + Integer))"
   ],
   "outputs": [
    {
     "name": "stdout",
     "output_type": "stream",
     "text": [
      "8.84\n",
      "<class 'float'>\n"
     ]
    }
   ],
   "execution_count": 41
  },
  {
   "cell_type": "code",
   "metadata": {
    "ExecuteTime": {
     "end_time": "2025-06-02T20:13:45.020363Z",
     "start_time": "2025-06-02T20:13:45.018116Z"
    }
   },
   "source": [
    "# What happens when you perform string addition?\n",
    "print(\"Oski\" + \"was\" + \"born\" + \"in\" + \"Berkeley\" + \".\")"
   ],
   "outputs": [
    {
     "name": "stdout",
     "output_type": "stream",
     "text": [
      "OskiwasborninBerkeley.\n"
     ]
    }
   ],
   "execution_count": 42
  },
  {
   "metadata": {},
   "cell_type": "markdown",
   "source": "it will append each string one after another with no spaces"
  },
  {
   "cell_type": "code",
   "metadata": {
    "ExecuteTime": {
     "end_time": "2025-06-02T20:13:47.895132Z",
     "start_time": "2025-06-02T20:13:47.892687Z"
    }
   },
   "source": [
    "# If we want spaces in string addition, we should code them.\n",
    "print(\"Oski\" + \" \" + \"was\" + \" \" + \"born\" + \" \" + \"in\" + \" \" + \"Berkeley\" + \".\")"
   ],
   "outputs": [
    {
     "name": "stdout",
     "output_type": "stream",
     "text": [
      "Oski was born in Berkeley.\n"
     ]
    }
   ],
   "execution_count": 43
  },
  {
   "cell_type": "code",
   "metadata": {
    "ExecuteTime": {
     "end_time": "2025-06-02T20:13:49.528096Z",
     "start_time": "2025-06-02T20:13:49.503038Z"
    }
   },
   "source": [
    "# Can you mix strings and floats/integers?\n",
    "print(\"1\" + 5)"
   ],
   "outputs": [
    {
     "ename": "TypeError",
     "evalue": "can only concatenate str (not \"int\") to str",
     "output_type": "error",
     "traceback": [
      "\u001B[31m---------------------------------------------------------------------------\u001B[39m",
      "\u001B[31mTypeError\u001B[39m                                 Traceback (most recent call last)",
      "\u001B[36mCell\u001B[39m\u001B[36m \u001B[39m\u001B[32mIn[44]\u001B[39m\u001B[32m, line 2\u001B[39m\n\u001B[32m      1\u001B[39m \u001B[38;5;66;03m# Can you mix strings and floats/integers?\u001B[39;00m\n\u001B[32m----> \u001B[39m\u001B[32m2\u001B[39m \u001B[38;5;28mprint\u001B[39m(\u001B[33;43m\"\u001B[39;49m\u001B[33;43m1\u001B[39;49m\u001B[33;43m\"\u001B[39;49m\u001B[43m \u001B[49m\u001B[43m+\u001B[49m\u001B[43m \u001B[49m\u001B[32;43m5\u001B[39;49m)\n",
      "\u001B[31mTypeError\u001B[39m: can only concatenate str (not \"int\") to str"
     ]
    }
   ],
   "execution_count": 44
  },
  {
   "metadata": {},
   "cell_type": "markdown",
   "source": "No, we cannot mix types"
  },
  {
   "cell_type": "code",
   "metadata": {
    "ExecuteTime": {
     "end_time": "2025-06-02T20:20:43.887782Z",
     "start_time": "2025-06-02T20:20:43.883679Z"
    }
   },
   "source": [
    "# How does string addition differ from float/integer addition?\n",
    "print(1 + 2)\n",
    "print(\"1\" + \"2\")"
   ],
   "outputs": [
    {
     "name": "stdout",
     "output_type": "stream",
     "text": [
      "3\n",
      "12\n"
     ]
    }
   ],
   "execution_count": 46
  },
  {
   "metadata": {},
   "cell_type": "markdown",
   "source": "float/int addition will do the math, so 1+2 = 3. but adding strings will concatenate/append, so it would be \"12\""
  },
  {
   "cell_type": "markdown",
   "metadata": {},
   "source": [
    "## Challenge 11: More Number Types"
   ]
  },
  {
   "cell_type": "markdown",
   "metadata": {},
   "source": [
    "Predict the output of the following:"
   ]
  },
  {
   "cell_type": "code",
   "metadata": {
    "ExecuteTime": {
     "end_time": "2025-06-02T20:23:42.938530Z",
     "start_time": "2025-06-02T20:23:42.936867Z"
    }
   },
   "source": [
    "print(8/4)\n",
    "# float\n",
    "print(type(8/4))"
   ],
   "outputs": [
    {
     "name": "stdout",
     "output_type": "stream",
     "text": [
      "2.0\n",
      "<class 'float'>\n"
     ]
    }
   ],
   "execution_count": 60
  },
  {
   "cell_type": "code",
   "metadata": {
    "ExecuteTime": {
     "end_time": "2025-06-02T20:23:58.411063Z",
     "start_time": "2025-06-02T20:23:58.408280Z"
    }
   },
   "source": [
    "print(8/5)\n",
    "# float\n",
    "print(type(8/5))"
   ],
   "outputs": [
    {
     "name": "stdout",
     "output_type": "stream",
     "text": [
      "1.6\n",
      "<class 'float'>\n"
     ]
    }
   ],
   "execution_count": 61
  },
  {
   "cell_type": "code",
   "metadata": {
    "ExecuteTime": {
     "end_time": "2025-06-02T20:24:13.589755Z",
     "start_time": "2025-06-02T20:24:13.587143Z"
    }
   },
   "source": [
    "print(8*4)\n",
    "# int\n",
    "print(type(8*4))"
   ],
   "outputs": [
    {
     "name": "stdout",
     "output_type": "stream",
     "text": [
      "32\n",
      "<class 'int'>\n"
     ]
    }
   ],
   "execution_count": 62
  },
  {
   "cell_type": "code",
   "metadata": {
    "ExecuteTime": {
     "end_time": "2025-06-02T20:24:25.844871Z",
     "start_time": "2025-06-02T20:24:25.842894Z"
    }
   },
   "source": [
    "print(8*4.5)\n",
    "# float\n",
    "print(type(8*4.5))"
   ],
   "outputs": [
    {
     "name": "stdout",
     "output_type": "stream",
     "text": [
      "36.0\n",
      "<class 'float'>\n"
     ]
    }
   ],
   "execution_count": 63
  },
  {
   "cell_type": "markdown",
   "metadata": {},
   "source": [
    "Change the following code to make the output `True`"
   ]
  },
  {
   "cell_type": "code",
   "metadata": {
    "ExecuteTime": {
     "end_time": "2025-06-02T20:27:39.695686Z",
     "start_time": "2025-06-02T20:27:39.690900Z"
    }
   },
   "source": [
    "num1 = 30\n",
    "num2 = 35.0\n",
    "\n",
    "type(num1) == type(num2)\n",
    "\n",
    "print(type(float(num1)) == type(num2))\n",
    "print(type(num1) == type(int(num2)))"
   ],
   "outputs": [
    {
     "name": "stdout",
     "output_type": "stream",
     "text": [
      "True\n",
      "True\n"
     ]
    }
   ],
   "execution_count": 69
  },
  {
   "cell_type": "markdown",
   "metadata": {},
   "source": [
    "## Challenge 12: String Syntax"
   ]
  },
  {
   "cell_type": "markdown",
   "metadata": {},
   "source": [
    "Why does the following code produce an error?"
   ]
  },
  {
   "cell_type": "code",
   "metadata": {
    "ExecuteTime": {
     "end_time": "2025-06-02T20:29:42.178697Z",
     "start_time": "2025-06-02T20:29:42.176416Z"
    }
   },
   "source": "print(\"Hello World!\")",
   "outputs": [
    {
     "name": "stdout",
     "output_type": "stream",
     "text": [
      "Hello World!\n"
     ]
    }
   ],
   "execution_count": 75
  },
  {
   "metadata": {},
   "cell_type": "markdown",
   "source": "it's missing a clothing parentheses and also lack of consistency, must use a set of \" or '."
  },
  {
   "cell_type": "markdown",
   "metadata": {},
   "source": [
    "And this one?"
   ]
  },
  {
   "cell_type": "code",
   "metadata": {
    "ExecuteTime": {
     "end_time": "2025-06-02T20:29:47.480764Z",
     "start_time": "2025-06-02T20:29:47.478429Z"
    }
   },
   "source": "print(\"I am \" + \"27\" + \" years old.\")",
   "outputs": [
    {
     "name": "stdout",
     "output_type": "stream",
     "text": [
      "I am 27 years old.\n"
     ]
    }
   ],
   "execution_count": 76
  },
  {
   "metadata": {},
   "cell_type": "markdown",
   "source": "27 should be a string like this, \"27\" because we cannot concatenate mixed types"
  },
  {
   "cell_type": "markdown",
   "metadata": {},
   "source": [
    "Fix the above cells."
   ]
  },
  {
   "cell_type": "markdown",
   "metadata": {},
   "source": [
    "## Challenge 13: Write your name\n",
    "\n",
    "1. Make two string variables, one with your first name and one with your last name.\n",
    "2. Concatenate both strings to form your full name and [assign](https://github.com/dlab-berkeley/python-intensive/blob/master/Glossary.md#assign) it to a variable.\n",
    "3. Assign a new variable that has your full name in all upper case.\n",
    "4. Slice that string to get your first name again."
   ]
  },
  {
   "cell_type": "code",
   "metadata": {
    "ExecuteTime": {
     "end_time": "2025-06-02T20:34:59.405809Z",
     "start_time": "2025-06-02T20:34:59.402115Z"
    }
   },
   "source": [
    "first_name, last_name = \"Catherine\", \"Wong\"\n",
    "full_name = f\"{first_name} {last_name}\"\n",
    "upper_full_name = full_name.upper()\n",
    "first_name_sliced = full_name.split()[0]\n",
    "\n",
    "print(full_name, upper_full_name, first_name_sliced)\n"
   ],
   "outputs": [
    {
     "name": "stdout",
     "output_type": "stream",
     "text": [
      "Catherine Wong CATHERINE WONG Catherine\n"
     ]
    }
   ],
   "execution_count": 88
  },
  {
   "cell_type": "markdown",
   "metadata": {},
   "source": [
    "## Challenge 14: Try seeing what the following string methods do:\n",
    "\n",
    "- `split()`\n",
    "- `join()`\n",
    "- `replace()`\n",
    "- `strip()`\n",
    "- `find()`"
   ]
  },
  {
   "cell_type": "code",
   "metadata": {
    "ExecuteTime": {
     "end_time": "2025-06-02T20:46:58.903494Z",
     "start_time": "2025-06-02T20:46:58.901509Z"
    }
   },
   "source": [
    "print(full_name.split()[0]) #split()\n",
    "\n",
    "name = [\"Catherine\", \"Wong\"]\n",
    "print(\" \".join(name)) # join()\n",
    "\n",
    "text = \"I love dogs\"\n",
    "print(text.replace(\"dog\", \"cat\")) # replace()\n",
    "\n",
    "txt = \"        there is so much space.         \"\n",
    "print(txt.strip())\n",
    "\n",
    "print(txt.find(\"space\"))\n"
   ],
   "outputs": [
    {
     "name": "stdout",
     "output_type": "stream",
     "text": [
      "Catherine\n",
      "Catherine Wong\n",
      "I love cats\n",
      "there is so much space.\n",
      "25\n"
     ]
    }
   ],
   "execution_count": 103
  },
  {
   "cell_type": "markdown",
   "metadata": {},
   "source": [
    "## Challenge 15: Working with strings"
   ]
  },
  {
   "cell_type": "markdown",
   "metadata": {},
   "source": [
    "Below is a string of Edgar Allen Poe's \"A Dream Within a Dream\":"
   ]
  },
  {
   "cell_type": "code",
   "metadata": {
    "ExecuteTime": {
     "end_time": "2025-06-02T20:48:28.176490Z",
     "start_time": "2025-06-02T20:48:28.173233Z"
    }
   },
   "source": [
    "poem = '''Take this kiss upon the brow!\n",
    "And, in parting from you now,\n",
    "Thus much let me avow —\n",
    "You are not wrong, who deem\n",
    "That my days have been a dream;\n",
    "Yet if hope has flown away\n",
    "In a night, or in a day,\n",
    "In a vision, or in none,\n",
    "Is it therefore the less gone?  \n",
    "All that we see or seem\n",
    "Is but a dream within a dream.\n",
    "\n",
    "I stand amid the roar\n",
    "Of a surf-tormented shore,\n",
    "And I hold within my hand\n",
    "Grains of the golden sand —\n",
    "How few! yet how they creep\n",
    "Through my fingers to the deep,\n",
    "While I weep — while I weep!\n",
    "O God! Can I not grasp \n",
    "Them with a tighter clasp?\n",
    "O God! can I not save\n",
    "One from the pitiless wave?\n",
    "Is all that we see or seem\n",
    "But a dream within a dream?'''"
   ],
   "outputs": [],
   "execution_count": 105
  },
  {
   "cell_type": "markdown",
   "metadata": {},
   "source": [
    "What is the difference between `poem.strip(\"?\")` and `poem.replace(\"?\", \"\")` ?"
   ]
  },
  {
   "metadata": {},
   "cell_type": "markdown",
   "source": "poem.strip(\"?\") removes very last question mark on line 25. poem.replace(\"?\",\"\") will remove every question mark wherever it appears."
  },
  {
   "cell_type": "code",
   "metadata": {
    "ExecuteTime": {
     "end_time": "2025-06-02T20:53:19.785994Z",
     "start_time": "2025-06-02T20:53:19.778324Z"
    }
   },
   "source": [
    "\"hello?hello\".strip(\"?\")"
   ],
   "outputs": [
    {
     "data": {
      "text/plain": [
       "'hello?hello'"
      ]
     },
     "execution_count": 108,
     "metadata": {},
     "output_type": "execute_result"
    }
   ],
   "execution_count": 108
  },
  {
   "cell_type": "markdown",
   "metadata": {},
   "source": [
    "At what index does the word \"*and*\" first appear? Where does it last appear?"
   ]
  },
  {
   "cell_type": "code",
   "metadata": {
    "ExecuteTime": {
     "end_time": "2025-06-02T20:54:20.915738Z",
     "start_time": "2025-06-02T20:54:20.911796Z"
    }
   },
   "source": [
    "## YOUR CODE HERE\n",
    "first_and = poem.find(\"and\")\n",
    "last_and = poem.rfind(\"and\")\n",
    "print(first_and, last_and)\n"
   ],
   "outputs": [
    {
     "name": "stdout",
     "output_type": "stream",
     "text": [
      "314 407\n"
     ]
    }
   ],
   "execution_count": 109
  },
  {
   "cell_type": "markdown",
   "metadata": {},
   "source": [
    "How can you answer the above accounting for upper- and lowercase?"
   ]
  },
  {
   "cell_type": "code",
   "metadata": {
    "ExecuteTime": {
     "end_time": "2025-06-02T20:57:07.184514Z",
     "start_time": "2025-06-02T20:57:07.176900Z"
    }
   },
   "source": [
    "## YOUR CODE HERE\n",
    "# convert poem to all lowercase or ignore case. easier to convert to lowercase\n",
    "\n",
    "poem_lowercase = poem.lower()\n",
    "print(\"First and:\", poem_lowercase.find(\"and\"))\n",
    "print(\"Last and:\", poem_lowercase.rfind(\"and\"))\n"
   ],
   "outputs": [
    {
     "name": "stdout",
     "output_type": "stream",
     "text": [
      "First and: 30\n",
      "Last and: 407\n"
     ]
    }
   ],
   "execution_count": 110
  },
  {
   "cell_type": "markdown",
   "metadata": {},
   "source": [
    "## Challenge 16: What Happens When\n",
    "\n",
    "1. Explain in simple terms the order of operations in the following program:\n",
    "    when does the addition happen, when does the subtraction happen,\n",
    "    when is each function called, etc.\n",
    "2. What is the final value of `radiance`?"
   ]
  },
  {
   "metadata": {},
   "cell_type": "markdown",
   "source": "1. you're taking the max of two numbers so,it's a function with two params, the first is number 2.1, then you will take the second param and do the math. 2.0 added to the output of whatever is passed into the min function. min function takes in radiance, 1.1 * radiance - 0.5. radiance is 1.0, then it does the math for 1.1 * radiance - 0.5, which will follow pemdas. that value is 0.6. min will then compare the two values: 1.0 and 0.6. 0.6 is min, then add to 2.0 which is 2.6. max will now compare 2.1 and 2.6. 2.6 is greater and is the max. so radiance is 2.6 now."
  },
  {
   "metadata": {
    "ExecuteTime": {
     "end_time": "2025-06-02T21:05:25.704701Z",
     "start_time": "2025-06-02T21:05:25.700050Z"
    }
   },
   "cell_type": "code",
   "source": [
    "radiance = 1.0\n",
    "radiance = max(2.1, 2.0 + min(radiance, 1.1 * radiance - 0.5))"
   ],
   "outputs": [],
   "execution_count": 111
  },
  {
   "metadata": {
    "ExecuteTime": {
     "end_time": "2025-06-02T21:05:26.975598Z",
     "start_time": "2025-06-02T21:05:26.973255Z"
    }
   },
   "cell_type": "code",
   "source": "print(radiance)",
   "outputs": [
    {
     "name": "stdout",
     "output_type": "stream",
     "text": [
      "2.6\n"
     ]
    }
   ],
   "execution_count": 112
  },
  {
   "cell_type": "markdown",
   "metadata": {},
   "source": [
    "## Challenge 17: Why Not?\n",
    "\n",
    "Why don't `max` and `min` return `None` when they are given no arguments?"
   ]
  },
  {
   "metadata": {},
   "cell_type": "markdown",
   "source": "because no values were passed in; no arguments to compare. need at least one. you can also set the default to None if nothing is passed in to avoid python programming error."
  },
  {
   "metadata": {},
   "cell_type": "code",
   "outputs": [
    {
     "ename": "TypeError",
     "evalue": "max expected at least 1 argument, got 0",
     "output_type": "error",
     "traceback": [
      "\u001B[31m---------------------------------------------------------------------------\u001B[39m",
      "\u001B[31mTypeError\u001B[39m                                 Traceback (most recent call last)",
      "\u001B[36mCell\u001B[39m\u001B[36m \u001B[39m\u001B[32mIn[113]\u001B[39m\u001B[32m, line 1\u001B[39m\n\u001B[32m----> \u001B[39m\u001B[32m1\u001B[39m \u001B[38;5;28mprint\u001B[39m(\u001B[38;5;28;43mmax\u001B[39;49m\u001B[43m(\u001B[49m\u001B[43m)\u001B[49m)\n",
      "\u001B[31mTypeError\u001B[39m: max expected at least 1 argument, got 0"
     ]
    }
   ],
   "execution_count": 113,
   "source": "print(max())"
  },
  {
   "metadata": {},
   "cell_type": "code",
   "outputs": [
    {
     "ename": "TypeError",
     "evalue": "min expected at least 1 argument, got 0",
     "output_type": "error",
     "traceback": [
      "\u001B[31m---------------------------------------------------------------------------\u001B[39m",
      "\u001B[31mTypeError\u001B[39m                                 Traceback (most recent call last)",
      "\u001B[36mCell\u001B[39m\u001B[36m \u001B[39m\u001B[32mIn[114]\u001B[39m\u001B[32m, line 1\u001B[39m\n\u001B[32m----> \u001B[39m\u001B[32m1\u001B[39m \u001B[38;5;28mprint\u001B[39m(\u001B[38;5;28;43mmin\u001B[39;49m\u001B[43m(\u001B[49m\u001B[43m)\u001B[49m)\n",
      "\u001B[31mTypeError\u001B[39m: min expected at least 1 argument, got 0"
     ]
    }
   ],
   "execution_count": 114,
   "source": "print(min())"
  },
  {
   "cell_type": "markdown",
   "metadata": {},
   "source": [
    "## Challenge 18: Counting Text"
   ]
  },
  {
   "cell_type": "markdown",
   "metadata": {},
   "source": [
    "Below is a string of Robert Frost's \"The Road Not Taken\". This is a preview of what we will cover in week 2:"
   ]
  },
  {
   "cell_type": "code",
   "execution_count": null,
   "metadata": {},
   "outputs": [],
   "source": [
    "poem = '''Two roads diverged in a yellow wood,\n",
    "And sorry I could not travel both\n",
    "And be one traveler, long I stood\n",
    "And looked down one as far as I could\n",
    "To where it bent in the undergrowth;\n",
    "\n",
    "Then took the other, as just as fair,\n",
    "And having perhaps the better claim,\n",
    "Because it was grassy and wanted wear;\n",
    "Though as for that the passing there\n",
    "Had worn them really about the same,\n",
    "\n",
    "And both that morning equally lay\n",
    "In leaves no step had trodden black.\n",
    "Oh, I kept the first for another day!\n",
    "Yet knowing how way leads on to way,\n",
    "I doubted if I should ever come back.\n",
    "\n",
    "I shall be telling this with a sigh\n",
    "Somewhere ages and ages hence:\n",
    "Two roads diverged in a wood, and I—\n",
    "I took the one less traveled by,\n",
    "And that has made all the difference.'''"
   ]
  },
  {
   "cell_type": "markdown",
   "metadata": {},
   "source": [
    "Using the `len` function and the string methods, answer the following questions:\n",
    "\n",
    "How many characters (letters) are in the poem?"
   ]
  },
  {
   "cell_type": "code",
   "metadata": {
    "ExecuteTime": {
     "end_time": "2025-06-02T21:11:56.224287Z",
     "start_time": "2025-06-02T21:11:56.222298Z"
    }
   },
   "source": [
    "chars = len(poem)\n",
    "print(\"Characters:\", chars)"
   ],
   "outputs": [
    {
     "name": "stdout",
     "output_type": "stream",
     "text": [
      "Characters: 657\n"
     ]
    }
   ],
   "execution_count": 123
  },
  {
   "cell_type": "markdown",
   "metadata": {},
   "source": [
    "How many words?"
   ]
  },
  {
   "cell_type": "code",
   "metadata": {
    "ExecuteTime": {
     "end_time": "2025-06-02T21:17:18.123604Z",
     "start_time": "2025-06-02T21:17:18.119421Z"
    }
   },
   "source": [
    "words = poem.split()\n",
    "num_words = len(words)\n",
    "print(\"Words:\", num_words)\n"
   ],
   "outputs": [
    {
     "name": "stdout",
     "output_type": "stream",
     "text": [
      "Words: 144\n"
     ]
    }
   ],
   "execution_count": 128
  },
  {
   "cell_type": "markdown",
   "metadata": {},
   "source": [
    "How many lines? (HINT: A line break is represented as  `\\n`  )"
   ]
  },
  {
   "cell_type": "code",
   "metadata": {
    "ExecuteTime": {
     "end_time": "2025-06-02T21:11:27.251333Z",
     "start_time": "2025-06-02T21:11:27.248271Z"
    }
   },
   "source": [
    "lines = poem.split(\"\\n\")\n",
    "num_lines = len(lines)\n",
    "print(\"Lines:\", num_lines)"
   ],
   "outputs": [
    {
     "name": "stdout",
     "output_type": "stream",
     "text": [
      "Lines: 25\n"
     ]
    }
   ],
   "execution_count": 120
  },
  {
   "cell_type": "markdown",
   "metadata": {},
   "source": [
    "How many stanzas?"
   ]
  },
  {
   "cell_type": "code",
   "metadata": {
    "ExecuteTime": {
     "end_time": "2025-06-02T21:11:25.274492Z",
     "start_time": "2025-06-02T21:11:25.271153Z"
    }
   },
   "source": [
    "stanzas = poem.strip().split(\"\\n\\n\")\n",
    "num_stanzas = len(stanzas)\n",
    "print(\"Stanzas:\", num_stanzas)"
   ],
   "outputs": [
    {
     "name": "stdout",
     "output_type": "stream",
     "text": [
      "Stanzas: 2\n"
     ]
    }
   ],
   "execution_count": 119
  },
  {
   "cell_type": "markdown",
   "metadata": {},
   "source": [
    "How many unique words? (HINT: look up what `set` does)"
   ]
  },
  {
   "cell_type": "code",
   "metadata": {
    "ExecuteTime": {
     "end_time": "2025-06-02T21:17:20.509332Z",
     "start_time": "2025-06-02T21:17:20.507162Z"
    }
   },
   "source": [
    "unique_words = set(words)\n",
    "print(\"Unique Words:\", len(unique_words))"
   ],
   "outputs": [
    {
     "name": "stdout",
     "output_type": "stream",
     "text": [
      "Unique Words: 101\n"
     ]
    }
   ],
   "execution_count": 129
  },
  {
   "cell_type": "markdown",
   "metadata": {},
   "source": [
    "Remove commas and check the number of unique words again. Why is it different?"
   ]
  },
  {
   "cell_type": "code",
   "metadata": {
    "ExecuteTime": {
     "end_time": "2025-06-02T21:20:14.597035Z",
     "start_time": "2025-06-02T21:20:14.594796Z"
    }
   },
   "source": [
    "remove_commas = poem.replace(\",\", \" \")\n",
    "print(\"Removing commas:\", remove_commas)\n",
    "\n",
    "words_no_commas = set(remove_commas.split())\n",
    "print(\"Words without commas:\", words_no_commas)\n",
    "\n",
    "unique_words_no_commas = set(words_no_commas)\n",
    "print(\"Unique Words:\", len(unique_words_no_commas))"
   ],
   "outputs": [
    {
     "name": "stdout",
     "output_type": "stream",
     "text": [
      "Removing commas: Take this kiss upon the brow!\n",
      "And  in parting from you now \n",
      "Thus much let me avow —\n",
      "You are not wrong  who deem\n",
      "That my days have been a dream;\n",
      "Yet if hope has flown away\n",
      "In a night  or in a day \n",
      "In a vision  or in none \n",
      "Is it therefore the less gone?  \n",
      "All that we see or seem\n",
      "Is but a dream within a dream.\n",
      "\n",
      "I stand amid the roar\n",
      "Of a surf-tormented shore \n",
      "And I hold within my hand\n",
      "Grains of the golden sand —\n",
      "How few! yet how they creep\n",
      "Through my fingers to the deep \n",
      "While I weep — while I weep!\n",
      "O God! Can I not grasp \n",
      "Them with a tighter clasp?\n",
      "O God! can I not save\n",
      "One from the pitiless wave?\n",
      "Is all that we see or seem\n",
      "But a dream within a dream?\n",
      "Words without commas: {'that', 'me', 'kiss', 'weep!', 'sand', 'roar', 'wrong', 'Them', 'I', 'yet', 'clasp?', 'golden', 'few!', 'with', 'are', 'less', 'Grains', 'dream?', 'Of', 'dream.', 'much', 'not', 'hand', 'has', 'And', 'or', 'day', 'Take', 'grasp', 'who', 'Yet', 'days', 'parting', 'in', 'therefore', 'away', 'stand', 'the', 'see', 'Can', 'but', 'creep', 'have', 'flown', '—', 'pitiless', 'avow', 'surf-tormented', 'we', 'you', 'dream', 'Thus', 'deep', 'amid', 'Is', 'my', 'to', 'One', 'Through', 'can', 'been', 'let', 'of', 'a', 'wave?', 'gone?', 'from', 'God!', 'seem', 'hold', 'fingers', 'it', 'While', 'if', 'In', 'vision', 'night', 'That', 'All', 'within', 'how', 'save', 'How', 'deem', 'they', 'while', 'tighter', 'But', 'none', 'now', 'all', 'You', 'hope', 'O', 'upon', 'brow!', 'weep', 'this', 'shore', 'dream;'}\n",
      "Unique Words: 100\n"
     ]
    }
   ],
   "execution_count": 132
  },
  {
   "cell_type": "code",
   "metadata": {
    "ExecuteTime": {
     "end_time": "2025-06-02T21:24:27.179726Z",
     "start_time": "2025-06-02T21:24:27.176596Z"
    }
   },
   "source": [
    "# What is going on in this cell?\n",
    "from string import punctuation"
   ],
   "outputs": [],
   "execution_count": 142
  },
  {
   "metadata": {},
   "cell_type": "markdown",
   "source": "from the string module you are importing the punctuation constant"
  },
  {
   "cell_type": "code",
   "metadata": {
    "ExecuteTime": {
     "end_time": "2025-06-02T21:24:28.557045Z",
     "start_time": "2025-06-02T21:24:28.553247Z"
    }
   },
   "source": [
    "punctuation"
   ],
   "outputs": [
    {
     "data": {
      "text/plain": [
       "'!\"#$%&\\'()*+,-./:;<=>?@[\\\\]^_`{|}~'"
      ]
     },
     "execution_count": 143,
     "metadata": {},
     "output_type": "execute_result"
    }
   ],
   "execution_count": 143
  },
  {
   "cell_type": "code",
   "metadata": {
    "ExecuteTime": {
     "end_time": "2025-06-02T21:25:11.336503Z",
     "start_time": "2025-06-02T21:25:11.330218Z"
    }
   },
   "source": [
    "poem = poem.translate(str.maketrans(\"\", \"\", punctuation))\n",
    "\n",
    "print(poem)"
   ],
   "outputs": [
    {
     "name": "stdout",
     "output_type": "stream",
     "text": [
      "Take this kiss upon the brow\n",
      "And in parting from you now\n",
      "Thus much let me avow —\n",
      "You are not wrong who deem\n",
      "That my days have been a dream\n",
      "Yet if hope has flown away\n",
      "In a night or in a day\n",
      "In a vision or in none\n",
      "Is it therefore the less gone  \n",
      "All that we see or seem\n",
      "Is but a dream within a dream\n",
      "\n",
      "I stand amid the roar\n",
      "Of a surftormented shore\n",
      "And I hold within my hand\n",
      "Grains of the golden sand —\n",
      "How few yet how they creep\n",
      "Through my fingers to the deep\n",
      "While I weep — while I weep\n",
      "O God Can I not grasp \n",
      "Them with a tighter clasp\n",
      "O God can I not save\n",
      "One from the pitiless wave\n",
      "Is all that we see or seem\n",
      "But a dream within a dream\n"
     ]
    }
   ],
   "execution_count": 145
  },
  {
   "cell_type": "markdown",
   "metadata": {},
   "source": [
    "Repeat this once more after converting everything to lowercase - what changed?"
   ]
  },
  {
   "metadata": {},
   "cell_type": "markdown",
   "source": "the poem is now in all lowercase"
  },
  {
   "metadata": {
    "ExecuteTime": {
     "end_time": "2025-06-02T21:25:44.087047Z",
     "start_time": "2025-06-02T21:25:44.084524Z"
    }
   },
   "cell_type": "code",
   "source": "print(poem.lower())\n",
   "outputs": [
    {
     "name": "stdout",
     "output_type": "stream",
     "text": [
      "take this kiss upon the brow\n",
      "and in parting from you now\n",
      "thus much let me avow —\n",
      "you are not wrong who deem\n",
      "that my days have been a dream\n",
      "yet if hope has flown away\n",
      "in a night or in a day\n",
      "in a vision or in none\n",
      "is it therefore the less gone  \n",
      "all that we see or seem\n",
      "is but a dream within a dream\n",
      "\n",
      "i stand amid the roar\n",
      "of a surftormented shore\n",
      "and i hold within my hand\n",
      "grains of the golden sand —\n",
      "how few yet how they creep\n",
      "through my fingers to the deep\n",
      "while i weep — while i weep\n",
      "o god can i not grasp \n",
      "them with a tighter clasp\n",
      "o god can i not save\n",
      "one from the pitiless wave\n",
      "is all that we see or seem\n",
      "but a dream within a dream\n"
     ]
    }
   ],
   "execution_count": 146
  }
 ],
 "metadata": {
  "kernelspec": {
   "display_name": "Python 3 (ipykernel)",
   "language": "python",
   "name": "python3"
  },
  "language_info": {
   "codemirror_mode": {
    "name": "ipython",
    "version": 3
   },
   "file_extension": ".py",
   "mimetype": "text/x-python",
   "name": "python",
   "nbconvert_exporter": "python",
   "pygments_lexer": "ipython3",
   "version": "3.10.9"
  }
 },
 "nbformat": 4,
 "nbformat_minor": 4
}
