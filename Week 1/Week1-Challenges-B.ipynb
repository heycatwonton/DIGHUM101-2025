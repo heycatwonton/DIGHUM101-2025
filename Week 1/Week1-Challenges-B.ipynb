{
 "cells": [
  {
   "cell_type": "markdown",
   "metadata": {},
   "source": [
    "## Challenge 1: Lists - Slice It!\n",
    "\n",
    "If `thing` is a list and `low` and `high` are both non-negative integers:\n",
    "\n",
    "1. What does `thing[low:high]` do?\n",
    "2. What does `thing[low:]` (without a value after the colon) do?\n",
    "3. What does `thing[:high]` (without a value before the colon) do?\n",
    "4. What does `thing[:]` (just a colon) do?\n",
    "5. How long is the list `thing[low:high]`?"
   ]
  },
  {
   "cell_type": "code",
   "metadata": {
    "ExecuteTime": {
     "end_time": "2025-06-02T22:00:55.895093Z",
     "start_time": "2025-06-02T22:00:55.889271Z"
    }
   },
   "source": [
    "thing = [1, 4, 3, 6, 3, 6, 7]\n",
    "\n",
    "low = 2\n",
    "high = 5\n",
    "\n",
    "print(thing[low:high]) # returns a sublist from index 2-5. excluding index 5\n",
    "print(thing[low:]) # returns a sublist with every value starting from index 2\n",
    "print(thing[:high]) # returns a sublist with every value starting from index 0 and up to index 5\n",
    "print(thing[:]) # returns a sublist with every value in list thing\n",
    "\n",
    "print(len(thing[low:high]))\n",
    "\n"
   ],
   "outputs": [
    {
     "name": "stdout",
     "output_type": "stream",
     "text": [
      "[3, 6, 3]\n",
      "[3, 6, 3, 6, 7]\n",
      "[1, 4, 3, 6, 3]\n",
      "[1, 4, 3, 6, 3, 6, 7]\n",
      "3\n"
     ]
    }
   ],
   "execution_count": 8
  },
  {
   "cell_type": "markdown",
   "metadata": {},
   "source": [
    "## Challenge 2: Lists - Making Strides\n",
    "\n",
    "What does the following program print?\n",
    "\n",
    "1. If we write a slice as low:high:stride, what does stride do?"
   ]
  },
  {
   "metadata": {},
   "cell_type": "markdown",
   "source": "stride lets us know how many elements to skip between index low to high"
  },
  {
   "metadata": {
    "ExecuteTime": {
     "end_time": "2025-06-02T22:04:17.774492Z",
     "start_time": "2025-06-02T22:04:17.768402Z"
    }
   },
   "cell_type": "code",
   "source": [
    "city = 'Berkeley'\n",
    "print(city[::2])\n",
    "print(city[::-1])"
   ],
   "outputs": [
    {
     "name": "stdout",
     "output_type": "stream",
     "text": [
      "Bree\n",
      "yelekreB\n"
     ]
    }
   ],
   "execution_count": 9
  },
  {
   "metadata": {},
   "cell_type": "markdown",
   "source": "2. What expression would select all of the even-numbered items from a collection?"
  },
  {
   "metadata": {
    "ExecuteTime": {
     "end_time": "2025-06-02T22:06:42.486593Z",
     "start_time": "2025-06-02T22:06:42.482968Z"
    }
   },
   "cell_type": "code",
   "source": [
    "numbers = list(range(1,51))\n",
    "print(numbers)"
   ],
   "outputs": [
    {
     "name": "stdout",
     "output_type": "stream",
     "text": [
      "[1, 2, 3, 4, 5, 6, 7, 8, 9, 10, 11, 12, 13, 14, 15, 16, 17, 18, 19, 20, 21, 22, 23, 24, 25, 26, 27, 28, 29, 30, 31, 32, 33, 34, 35, 36, 37, 38, 39, 40, 41, 42, 43, 44, 45, 46, 47, 48, 49, 50]\n"
     ]
    }
   ],
   "execution_count": 11
  },
  {
   "metadata": {
    "ExecuteTime": {
     "end_time": "2025-06-02T22:13:11.557653Z",
     "start_time": "2025-06-02T22:13:11.554764Z"
    }
   },
   "cell_type": "code",
   "source": [
    "even_nums = numbers[1::2]\n",
    "print(even_nums)\n"
   ],
   "outputs": [
    {
     "name": "stdout",
     "output_type": "stream",
     "text": [
      "[2, 4, 6, 8, 10, 12, 14, 16, 18, 20, 22, 24, 26, 28, 30, 32, 34, 36, 38, 40, 42, 44, 46, 48, 50]\n"
     ]
    }
   ],
   "execution_count": 20
  },
  {
   "cell_type": "markdown",
   "metadata": {},
   "source": [
    "## Challenge 3: Lists - Append vs. Extend\n",
    "\n",
    "Using the program below, can you tell the difference between the `append` method and the `extend` method?"
   ]
  },
  {
   "metadata": {},
   "cell_type": "markdown",
   "source": "no, because you haven't appended or extended to any list, just printing the original lists"
  },
  {
   "metadata": {},
   "cell_type": "code",
   "outputs": [
    {
     "name": "stdout",
     "output_type": "stream",
     "text": [
      "append does this: ['bread', 'pasta', 'beans', 'cereal']\n",
      "extend does this: ['bread', 'pasta', 'beans', 'cereal']\n"
     ]
    }
   ],
   "execution_count": 15,
   "source": [
    "pantry_1 = ['bread', 'pasta', 'beans', 'cereal']\n",
    "pantry_2 = ['bread', 'pasta', 'beans', 'cereal']\n",
    "new_items = ['granola bars', 'cookies']\n",
    "print('append does this:', pantry_1)\n",
    "print('extend does this:', pantry_2)"
   ]
  },
  {
   "cell_type": "markdown",
   "metadata": {},
   "source": [
    "## Challenge 4: Lists - Index\n",
    "\n",
    "I've created a (long) list for you below. Use the `.index()` method to find out what the index number is for `Waldo`"
   ]
  },
  {
   "cell_type": "code",
   "metadata": {
    "ExecuteTime": {
     "end_time": "2025-06-02T22:12:42.781786Z",
     "start_time": "2025-06-02T22:12:42.778869Z"
    }
   },
   "source": [
    "Wheres_Waldo = [\"Anna\", \"Shad\", \"Rachel\", \"Maura\", \"Jason\", \"Matt\", \"Konrad\", \"Justine\", \"Sarah\", \"Laura\", \\\n",
    "                \"Chelsea\", \"Nina\", \"Dierdre\", \"Julian\", \"Waldo\", \"Naniette\", \"Melissa\", \"Biz\", \"Elsa\", \"Demetria\",\\\n",
    "                \"Liz\", \"Olivia\", \"Will\", \"Ogi\", \"Melanie\", \"Jessica\"]"
   ],
   "outputs": [],
   "execution_count": 17
  },
  {
   "cell_type": "code",
   "metadata": {
    "ExecuteTime": {
     "end_time": "2025-06-02T22:12:43.972102Z",
     "start_time": "2025-06-02T22:12:43.967628Z"
    }
   },
   "source": "Wheres_Waldo.index(\"Waldo\")\n",
   "outputs": [
    {
     "data": {
      "text/plain": [
       "14"
      ]
     },
     "execution_count": 18,
     "metadata": {},
     "output_type": "execute_result"
    }
   ],
   "execution_count": 18
  },
  {
   "cell_type": "markdown",
   "metadata": {},
   "source": [
    "## Challenge 5:  Lists - join\n",
    "\n",
    "Read the help file for the `join` method. \n",
    "\n",
    "Using the join method, concatenate all the values in this list into one string:"
   ]
  },
  {
   "cell_type": "code",
   "metadata": {
    "ExecuteTime": {
     "end_time": "2025-06-02T22:15:24.663406Z",
     "start_time": "2025-06-02T22:15:24.660908Z"
    }
   },
   "source": [
    "letters = ['s', 'p', 'a', 'm']"
   ],
   "outputs": [],
   "execution_count": 22
  },
  {
   "cell_type": "code",
   "metadata": {
    "ExecuteTime": {
     "end_time": "2025-06-02T22:15:34.330786Z",
     "start_time": "2025-06-02T22:15:34.326713Z"
    }
   },
   "source": [
    "word = \"\".join(letters)\n",
    "word"
   ],
   "outputs": [
    {
     "data": {
      "text/plain": [
       "'spam'"
      ]
     },
     "execution_count": 25,
     "metadata": {},
     "output_type": "execute_result"
    }
   ],
   "execution_count": 25
  },
  {
   "cell_type": "markdown",
   "metadata": {},
   "source": [
    "Now use the `join` method to make one string with all the names from the list `Wheres_Waldo`, which prints each name on a separate line. (HINT: Remember a new line is represented by `\\n`"
   ]
  },
  {
   "cell_type": "code",
   "metadata": {
    "ExecuteTime": {
     "end_time": "2025-06-02T22:19:15.336829Z",
     "start_time": "2025-06-02T22:19:15.334593Z"
    }
   },
   "source": [
    "names = \"\\n\".join(Wheres_Waldo)\n",
    "print(names)\n"
   ],
   "outputs": [
    {
     "name": "stdout",
     "output_type": "stream",
     "text": [
      "Anna\n",
      "Shad\n",
      "Rachel\n",
      "Maura\n",
      "Jason\n",
      "Matt\n",
      "Konrad\n",
      "Justine\n",
      "Sarah\n",
      "Laura\n",
      "Chelsea\n",
      "Nina\n",
      "Dierdre\n",
      "Julian\n",
      "Waldo\n",
      "Naniette\n",
      "Melissa\n",
      "Biz\n",
      "Elsa\n",
      "Demetria\n",
      "Liz\n",
      "Olivia\n",
      "Will\n",
      "Ogi\n",
      "Melanie\n",
      "Jessica\n"
     ]
    }
   ],
   "execution_count": 27
  },
  {
   "cell_type": "markdown",
   "metadata": {},
   "source": [
    "Reverse the order of the names:"
   ]
  },
  {
   "cell_type": "code",
   "metadata": {
    "scrolled": true,
    "ExecuteTime": {
     "end_time": "2025-06-02T22:21:00.258055Z",
     "start_time": "2025-06-02T22:21:00.254158Z"
    }
   },
   "source": [
    "reversed = Wheres_Waldo[::-1]\n",
    "reversed_names = \"\\n\".join(reversed)\n",
    "print(reversed_names)\n"
   ],
   "outputs": [
    {
     "name": "stdout",
     "output_type": "stream",
     "text": [
      "Jessica\n",
      "Melanie\n",
      "Ogi\n",
      "Will\n",
      "Olivia\n",
      "Liz\n",
      "Demetria\n",
      "Elsa\n",
      "Biz\n",
      "Melissa\n",
      "Naniette\n",
      "Waldo\n",
      "Julian\n",
      "Dierdre\n",
      "Nina\n",
      "Chelsea\n",
      "Laura\n",
      "Sarah\n",
      "Justine\n",
      "Konrad\n",
      "Matt\n",
      "Jason\n",
      "Maura\n",
      "Rachel\n",
      "Shad\n",
      "Anna\n"
     ]
    }
   ],
   "execution_count": 30
  },
  {
   "cell_type": "markdown",
   "metadata": {},
   "source": [
    "## Challenge 6: Dictionaries - Make your own\n",
    "\n",
    "Dictionaries can be nested, which means that dictionary keys can contain dictionaries themselves.\n",
    "\n",
    "1. Create two dictionaries, each representing one of your favorite musical artist. Each dictionary should have the following keys / value-type: `name`: (string) , `genre`: (string), `songs` (list), `age`: (integer)\n",
    "\n",
    "2. Create an outer dictionary called `musical_artists` that contain the two inner dictionaries."
   ]
  },
  {
   "cell_type": "code",
   "execution_count": null,
   "metadata": {},
   "outputs": [],
   "source": [
    "## 1. YOUR CODE HERE\n",
    "artist_1 = {\n",
    "    \"name\": \"Clairo\",\n",
    "    \"genre\": \"bedroom pop\",\n",
    "    \"songs\": [\"Bags\",\"Pretty Girl\"],\n",
    "    \"age\": 26\n",
    "}\n",
    "\n",
    "artist_2 = {\n",
    "    \"name\": \"Girl in Red\",\n",
    "    \"genre\": \"bedroom pop\",\n",
    "    \"songs\": [\"Serotonin\",\"Too Much\"],\n",
    "    \"age\": 26\n",
    "}"
   ]
  },
  {
   "cell_type": "code",
   "execution_count": null,
   "metadata": {},
   "outputs": [],
   "source": [
    "musical_artist = {\n",
    "    \"artist_1\": artist_1,\n",
    "    \"artist_2\": artist_2,\n",
    "}\n",
    "\n"
   ]
  },
  {
   "cell_type": "markdown",
   "metadata": {},
   "source": [
    "## Challenge 7: More data structures - Tuple\n",
    "\n",
    "Tuples are similar to lists and arrays, but they are unchangeable (\"immutable\"). \n",
    "\n",
    "For example, we cannot change the output of 10 (the dividend) divided by 3 (the divisor) - by definition the quotient is 3 and the remainder is 1 this cannot be changed. \n",
    "\n",
    "> Although they appear similar to lists, note that tuples use round parentheses `()` to store information instead of square brackets."
   ]
  },
  {
   "cell_type": "code",
   "metadata": {
    "ExecuteTime": {
     "end_time": "2025-06-02T22:38:45.966546Z",
     "start_time": "2025-06-02T22:38:45.961808Z"
    }
   },
   "source": [
    "my_var = [1,1,1,1,2,2]\n",
    "my_var"
   ],
   "outputs": [
    {
     "data": {
      "text/plain": [
       "[1, 1, 1, 1, 2, 2]"
      ]
     },
     "execution_count": 31,
     "metadata": {},
     "output_type": "execute_result"
    }
   ],
   "execution_count": 31
  },
  {
   "cell_type": "code",
   "metadata": {
    "ExecuteTime": {
     "end_time": "2025-06-02T22:38:47.065800Z",
     "start_time": "2025-06-02T22:38:47.048030Z"
    }
   },
   "source": [
    "my_set(my_var)\n",
    "my_var"
   ],
   "outputs": [
    {
     "ename": "NameError",
     "evalue": "name 'my_set' is not defined",
     "output_type": "error",
     "traceback": [
      "\u001B[31m---------------------------------------------------------------------------\u001B[39m",
      "\u001B[31mNameError\u001B[39m                                 Traceback (most recent call last)",
      "\u001B[36mCell\u001B[39m\u001B[36m \u001B[39m\u001B[32mIn[32]\u001B[39m\u001B[32m, line 1\u001B[39m\n\u001B[32m----> \u001B[39m\u001B[32m1\u001B[39m \u001B[43mmy_set\u001B[49m(my_var)\n\u001B[32m      2\u001B[39m my_var\n",
      "\u001B[31mNameError\u001B[39m: name 'my_set' is not defined"
     ]
    }
   ],
   "execution_count": 32
  },
  {
   "cell_type": "code",
   "metadata": {
    "ExecuteTime": {
     "end_time": "2025-06-02T22:38:57.362463Z",
     "start_time": "2025-06-02T22:38:57.358704Z"
    }
   },
   "source": [
    "div = divmod(10,3)\n",
    "print(div)\n",
    "print(type(div))"
   ],
   "outputs": [
    {
     "name": "stdout",
     "output_type": "stream",
     "text": [
      "(3, 1)\n",
      "<class 'tuple'>\n"
     ]
    }
   ],
   "execution_count": 33
  },
  {
   "cell_type": "markdown",
   "metadata": {},
   "source": [
    "Figure out another way to define any tuple below:"
   ]
  },
  {
   "cell_type": "code",
   "metadata": {
    "ExecuteTime": {
     "end_time": "2025-06-02T22:39:03.284992Z",
     "start_time": "2025-06-02T22:39:03.281907Z"
    }
   },
   "source": [
    "# Empty tuple\n",
    "tuple_empty = ()\n",
    "print(tuple_empty)\n",
    "print(type(tuple_empty))"
   ],
   "outputs": [
    {
     "name": "stdout",
     "output_type": "stream",
     "text": [
      "()\n",
      "<class 'tuple'>\n"
     ]
    }
   ],
   "execution_count": 34
  },
  {
   "cell_type": "code",
   "metadata": {
    "ExecuteTime": {
     "end_time": "2025-06-02T22:39:12.105710Z",
     "start_time": "2025-06-02T22:39:12.102123Z"
    }
   },
   "source": [
    "# Tuple with floats\n",
    "tuple_float = (1.12, 2.23, 3.14)\n",
    "print(tuple_float)\n",
    "print(type(tuple_float))"
   ],
   "outputs": [
    {
     "name": "stdout",
     "output_type": "stream",
     "text": [
      "(1.12, 2.23, 3.14)\n",
      "<class 'tuple'>\n"
     ]
    }
   ],
   "execution_count": 35
  },
  {
   "metadata": {
    "ExecuteTime": {
     "end_time": "2025-06-02T22:41:40.352732Z",
     "start_time": "2025-06-02T22:41:40.349330Z"
    }
   },
   "cell_type": "code",
   "source": [
    "tuple_float_from_list = tuple([1.12, 2.23, 3.14])\n",
    "print(tuple_float_from_list)\n",
    "print(type(tuple_float_from_list))"
   ],
   "outputs": [
    {
     "name": "stdout",
     "output_type": "stream",
     "text": [
      "(1.12, 2.23, 3.14)\n",
      "<class 'tuple'>\n"
     ]
    }
   ],
   "execution_count": 37
  },
  {
   "cell_type": "code",
   "metadata": {
    "ExecuteTime": {
     "end_time": "2025-06-02T22:39:13.499262Z",
     "start_time": "2025-06-02T22:39:13.496002Z"
    }
   },
   "source": [
    "# Complex tuple\n",
    "tuple_complex = ([1, 3, 12], True, \"hello!\", (3.14, 3.14, 3.15))\n",
    "print(tuple_complex)\n",
    "print(type(tuple_complex))"
   ],
   "outputs": [
    {
     "name": "stdout",
     "output_type": "stream",
     "text": [
      "([1, 3, 12], True, 'hello!', (3.14, 3.14, 3.15))\n",
      "<class 'tuple'>\n"
     ]
    }
   ],
   "execution_count": 36
  },
  {
   "cell_type": "markdown",
   "metadata": {},
   "source": [
    "How do you think you index or slice a tuple? HINT: You are already familiar with this! Provide one example below."
   ]
  },
  {
   "cell_type": "code",
   "metadata": {
    "ExecuteTime": {
     "end_time": "2025-06-02T22:43:34.589717Z",
     "start_time": "2025-06-02T22:43:34.587913Z"
    }
   },
   "source": "print(tuple_complex[2])",
   "outputs": [
    {
     "name": "stdout",
     "output_type": "stream",
     "text": [
      "hello!\n"
     ]
    }
   ],
   "execution_count": 39
  }
 ],
 "metadata": {
  "kernelspec": {
   "display_name": "Python 3 (ipykernel)",
   "language": "python",
   "name": "python3"
  },
  "language_info": {
   "codemirror_mode": {
    "name": "ipython",
    "version": 3
   },
   "file_extension": ".py",
   "mimetype": "text/x-python",
   "name": "python",
   "nbconvert_exporter": "python",
   "pygments_lexer": "ipython3",
   "version": "3.10.9"
  }
 },
 "nbformat": 4,
 "nbformat_minor": 2
}
